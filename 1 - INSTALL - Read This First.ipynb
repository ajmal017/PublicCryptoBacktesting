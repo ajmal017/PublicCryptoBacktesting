{
  "cells": [
    {
      "metadata": {
        "trusted": true
      },
      "cell_type": "code",
      "source": "!pip install -r requirements.txt --user",
      "execution_count": 4,
      "outputs": [
        {
          "output_type": "stream",
          "text": "Requirement already satisfied: backtesting in /home/nbuser/.local/lib/python3.6/site-packages (from -r requirements.txt (line 1)) (0.1.2)\nRequirement already satisfied: backtrader in /home/nbuser/.local/lib/python3.6/site-packages (from -r requirements.txt (line 2)) (1.9.74.123)\nRequirement already satisfied: ccxt in /home/nbuser/.local/lib/python3.6/site-packages (from -r requirements.txt (line 3)) (1.22.13)\nRequirement already satisfied: ta in /home/nbuser/.local/lib/python3.6/site-packages (from -r requirements.txt (line 4)) (0.5.11)\nRequirement already satisfied: ttrpy in /home/nbuser/.local/lib/python3.6/site-packages (from -r requirements.txt (line 5)) (0.1.1)\nCollecting finta\n  Downloading https://files.pythonhosted.org/packages/c6/9f/f43862e6da3234151144393080d212229cc862c6abfac9ebba1be363dc2e/finta-0.4.1.tar.gz\nRequirement already satisfied: pandas!=0.25.0,>=0.21.0 in /home/nbuser/anaconda3_501/lib/python3.6/site-packages (from backtesting->-r requirements.txt (line 1)) (0.23.4)\nRequirement already satisfied: bokeh>=1.1.0 in /home/nbuser/.local/lib/python3.6/site-packages (from backtesting->-r requirements.txt (line 1)) (1.4.0)\nRequirement already satisfied: numpy in /home/nbuser/anaconda3_501/lib/python3.6/site-packages (from backtesting->-r requirements.txt (line 1)) (1.16.2)\nRequirement already satisfied: aiohttp==3.6.2; python_version >= \"3.5.2\" in /home/nbuser/.local/lib/python3.6/site-packages (from ccxt->-r requirements.txt (line 3)) (3.6.2)\nRequirement already satisfied: certifi>=2018.1.18 in /home/nbuser/anaconda3_501/lib/python3.6/site-packages (from ccxt->-r requirements.txt (line 3)) (2018.10.15)\nRequirement already satisfied: aiodns==1.1.1; python_version >= \"3.5.2\" in /home/nbuser/.local/lib/python3.6/site-packages (from ccxt->-r requirements.txt (line 3)) (1.1.1)\nRequirement already satisfied: yarl==1.1.0; python_version >= \"3.5.2\" in /home/nbuser/.local/lib/python3.6/site-packages (from ccxt->-r requirements.txt (line 3)) (1.1.0)\nRequirement already satisfied: requests>=2.18.4 in /home/nbuser/anaconda3_501/lib/python3.6/site-packages (from ccxt->-r requirements.txt (line 3)) (2.22.0)\nRequirement already satisfied: cryptography>=2.6.1 in /home/nbuser/.local/lib/python3.6/site-packages (from ccxt->-r requirements.txt (line 3)) (2.8)\nRequirement already satisfied: setuptools>=38.5.1 in /home/nbuser/anaconda3_501/lib/python3.6/site-packages (from ccxt->-r requirements.txt (line 3)) (41.6.0)\nRequirement already satisfied: python-dateutil>=2.5.0 in /home/nbuser/anaconda3_501/lib/python3.6/site-packages (from pandas!=0.25.0,>=0.21.0->backtesting->-r requirements.txt (line 1)) (2.8.1)\nRequirement already satisfied: pytz>=2011k in /home/nbuser/anaconda3_501/lib/python3.6/site-packages (from pandas!=0.25.0,>=0.21.0->backtesting->-r requirements.txt (line 1)) (2019.3)\nRequirement already satisfied: PyYAML>=3.10 in /home/nbuser/anaconda3_501/lib/python3.6/site-packages (from bokeh>=1.1.0->backtesting->-r requirements.txt (line 1)) (3.13)\nRequirement already satisfied: packaging>=16.8 in /home/nbuser/anaconda3_501/lib/python3.6/site-packages (from bokeh>=1.1.0->backtesting->-r requirements.txt (line 1)) (18.0)\nRequirement already satisfied: pillow>=4.0 in /home/nbuser/anaconda3_501/lib/python3.6/site-packages (from bokeh>=1.1.0->backtesting->-r requirements.txt (line 1)) (5.3.0)\nRequirement already satisfied: six>=1.5.2 in /home/nbuser/anaconda3_501/lib/python3.6/site-packages (from bokeh>=1.1.0->backtesting->-r requirements.txt (line 1)) (1.11.0)\nRequirement already satisfied: tornado>=4.3 in /home/nbuser/anaconda3_501/lib/python3.6/site-packages (from bokeh>=1.1.0->backtesting->-r requirements.txt (line 1)) (4.5.3)\nRequirement already satisfied: Jinja2>=2.7 in /home/nbuser/anaconda3_501/lib/python3.6/site-packages (from bokeh>=1.1.0->backtesting->-r requirements.txt (line 1)) (2.10)\nRequirement already satisfied: chardet<4.0,>=2.0 in /home/nbuser/anaconda3_501/lib/python3.6/site-packages (from aiohttp==3.6.2; python_version >= \"3.5.2\"->ccxt->-r requirements.txt (line 3)) (3.0.4)\nRequirement already satisfied: async-timeout<4.0,>=3.0 in /home/nbuser/.local/lib/python3.6/site-packages (from aiohttp==3.6.2; python_version >= \"3.5.2\"->ccxt->-r requirements.txt (line 3)) (3.0.1)\nRequirement already satisfied: typing-extensions>=3.6.5; python_version < \"3.7\" in /home/nbuser/anaconda3_501/lib/python3.6/site-packages (from aiohttp==3.6.2; python_version >= \"3.5.2\"->ccxt->-r requirements.txt (line 3)) (3.7.4.1)\nRequirement already satisfied: idna-ssl>=1.0; python_version < \"3.7\" in /home/nbuser/.local/lib/python3.6/site-packages (from aiohttp==3.6.2; python_version >= \"3.5.2\"->ccxt->-r requirements.txt (line 3)) (1.1.0)\nRequirement already satisfied: multidict<5.0,>=4.5 in /home/nbuser/.local/lib/python3.6/site-packages (from aiohttp==3.6.2; python_version >= \"3.5.2\"->ccxt->-r requirements.txt (line 3)) (4.7.4)\nRequirement already satisfied: attrs>=17.3.0 in /home/nbuser/anaconda3_501/lib/python3.6/site-packages (from aiohttp==3.6.2; python_version >= \"3.5.2\"->ccxt->-r requirements.txt (line 3)) (18.2.0)\nRequirement already satisfied: pycares>=1.0.0 in /home/nbuser/.local/lib/python3.6/site-packages (from aiodns==1.1.1; python_version >= \"3.5.2\"->ccxt->-r requirements.txt (line 3)) (3.1.1)\nRequirement already satisfied: idna>=2.0 in /home/nbuser/anaconda3_501/lib/python3.6/site-packages (from yarl==1.1.0; python_version >= \"3.5.2\"->ccxt->-r requirements.txt (line 3)) (2.7)\nRequirement already satisfied: urllib3!=1.25.0,!=1.25.1,<1.26,>=1.21.1 in /home/nbuser/anaconda3_501/lib/python3.6/site-packages (from requests>=2.18.4->ccxt->-r requirements.txt (line 3)) (1.23)\nRequirement already satisfied: cffi!=1.11.3,>=1.8 in /home/nbuser/anaconda3_501/lib/python3.6/site-packages (from cryptography>=2.6.1->ccxt->-r requirements.txt (line 3)) (1.11.5)\nRequirement already satisfied: pyparsing>=2.0.2 in /home/nbuser/anaconda3_501/lib/python3.6/site-packages (from packaging>=16.8->bokeh>=1.1.0->backtesting->-r requirements.txt (line 1)) (2.3.0)\nRequirement already satisfied: MarkupSafe>=0.23 in /home/nbuser/anaconda3_501/lib/python3.6/site-packages (from Jinja2>=2.7->bokeh>=1.1.0->backtesting->-r requirements.txt (line 1)) (1.1.0)\nRequirement already satisfied: pycparser in /home/nbuser/anaconda3_501/lib/python3.6/site-packages (from cffi!=1.11.3,>=1.8->cryptography>=2.6.1->ccxt->-r requirements.txt (line 3)) (2.19)\nBuilding wheels for collected packages: finta\n  Building wheel for finta (setup.py) ... \u001b[?25ldone\n\u001b[?25h  Created wheel for finta: filename=finta-0.4.1-cp36-none-any.whl size=26990 sha256=bc7e8b38ab3e1390040bc1473538f2191aa76296f8696af316076e3d3875cc4c\n  Stored in directory: /home/nbuser/.cache/pip/wheels/4b/3a/f1/3cde13172ae7cc0a9003026937d7b404aa3e433755b3b3e919\nSuccessfully built finta\nInstalling collected packages: finta\nSuccessfully installed finta-0.4.1\n\u001b[33mWARNING: You are using pip version 19.3.1; however, version 20.0.2 is available.\nYou should consider upgrading via the 'pip install --upgrade pip' command.\u001b[0m\n",
          "name": "stdout"
        }
      ]
    },
    {
      "metadata": {
        "trusted": true
      },
      "cell_type": "code",
      "source": "",
      "execution_count": null,
      "outputs": []
    }
  ],
  "metadata": {
    "kernelspec": {
      "name": "python36",
      "display_name": "Python 3.6",
      "language": "python"
    },
    "language_info": {
      "mimetype": "text/x-python",
      "nbconvert_exporter": "python",
      "name": "python",
      "pygments_lexer": "ipython3",
      "version": "3.6.6",
      "file_extension": ".py",
      "codemirror_mode": {
        "version": 3,
        "name": "ipython"
      }
    }
  },
  "nbformat": 4,
  "nbformat_minor": 2
}