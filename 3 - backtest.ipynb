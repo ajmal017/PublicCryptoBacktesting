{
  "cells": [
    {
      "metadata": {
        "trusted": true
      },
      "cell_type": "code",
      "source": "import pandas as pd\nfrom backtesting import Backtest, Strategy\nfrom backtesting.lib import crossover\nfrom backtesting.test import SMA\n\nimport warnings\nwarnings.simplefilter(\"ignore\")\n\ndf = pd.read_csv('binance.csv')\n\ndf0 = df.rename(columns={\n    'date': 'Date', \n    'open': 'Open', \n    'high': 'High', \n    'low': 'Low', \n    'close': 'Close', \n    'volume': 'Volume'\n})\n\nclass SmaCross(Strategy):\n    def init(self):\n        Close = self.data.Close\n        self.ma1 = self.I(SMA, Close, 10)\n        self.ma2 = self.I(SMA, Close, 20)\n\n    def next(self):\n        if crossover(self.ma1, self.ma2):\n            self.buy()\n        elif crossover(self.ma2, self.ma1):\n            self.sell()\n\npd.options.display.max_rows = 500\nbt = Backtest(df0, SmaCross,\n              cash=10000, commission=.002)\nbt.run()",
      "execution_count": null,
      "outputs": []
    },
    {
      "metadata": {
        "trusted": true
      },
      "cell_type": "code",
      "source": "bt.plot()",
      "execution_count": null,
      "outputs": []
    }
  ],
  "metadata": {
    "kernelspec": {
      "name": "python36",
      "display_name": "Python 3.6",
      "language": "python"
    },
    "language_info": {
      "mimetype": "text/x-python",
      "nbconvert_exporter": "python",
      "name": "python",
      "pygments_lexer": "ipython3",
      "version": "3.6.6",
      "file_extension": ".py",
      "codemirror_mode": {
        "version": 3,
        "name": "ipython"
      }
    }
  },
  "nbformat": 4,
  "nbformat_minor": 2
}